{
  "nbformat": 4,
  "nbformat_minor": 0,
  "metadata": {
    "colab": {
      "provenance": []
    },
    "kernelspec": {
      "name": "python3",
      "display_name": "Python 3"
    },
    "language_info": {
      "name": "python"
    }
  },
  "cells": [
    {
      "cell_type": "markdown",
      "source": [
        "# **Theory Questions:**"
      ],
      "metadata": {
        "id": "Ub3MF1TGSmvG"
      }
    },
    {
      "cell_type": "markdown",
      "source": [
        "## **1. What is the difference between a function and a method in Python?**\n",
        "\n",
        "* Function -\n",
        "A block of code defined using def or lambda. It is Independent — not tied to any object. Functions are general-purpose and can work on many kinds of data.\n",
        "* Method -\n",
        "A function that is associated with an object.Tied to an object (usually a class instance). Methods are functions that belong to specific data types or classes."
      ],
      "metadata": {
        "id": "RmmdCxzKSsrm"
      }
    },
    {
      "cell_type": "code",
      "source": [
        "# Example - Funtion\n",
        "def greetings(name):\n",
        "  print(\"welcome to the office\", name)\n",
        "\n",
        "greetings(\"pallavi.\")"
      ],
      "metadata": {
        "colab": {
          "base_uri": "https://localhost:8080/"
        },
        "id": "kKedRZv7TUMk",
        "outputId": "3ef04356-7ac9-4eea-b765-92bc95ba59b5"
      },
      "execution_count": 5,
      "outputs": [
        {
          "output_type": "stream",
          "name": "stdout",
          "text": [
            "welcome to the office pallavi.\n"
          ]
        }
      ]
    },
    {
      "cell_type": "code",
      "source": [
        "# Example - Method\n",
        "\n",
        "name = \"pallavi\"\n",
        "print(name.capitalize())"
      ],
      "metadata": {
        "colab": {
          "base_uri": "https://localhost:8080/"
        },
        "id": "iI18dCCSTev9",
        "outputId": "5b4f2e29-c13f-43c9-c692-aa286c80c652"
      },
      "execution_count": 6,
      "outputs": [
        {
          "output_type": "stream",
          "name": "stdout",
          "text": [
            "Pallavi\n"
          ]
        }
      ]
    },
    {
      "cell_type": "markdown",
      "source": [
        "# **2. Explain the concept of function arguments and parameters in Python.**\n",
        "\n",
        "In Python, parameters and arguments are both related to functions, but they are used at different stages.\n",
        "Parameters are The variable listed inside the parentheses when defining a function, Arguments are The actual value passed to the function when calling it"
      ],
      "metadata": {
        "id": "w2zgm1GkT6AM"
      }
    },
    {
      "cell_type": "code",
      "source": [
        "def greetings(name):\n",
        "  print(\"welcome to the office\", name)\n",
        "\n",
        "greetings(\"pallavi.\")\n",
        "\n",
        "#name is a parameter.  \"Pallavi\" is an argument.\n",
        "\n"
      ],
      "metadata": {
        "id": "z_8G65k4Ur_q"
      },
      "execution_count": null,
      "outputs": []
    },
    {
      "cell_type": "markdown",
      "source": [
        "#**3. What are the different ways to define and call a function in Python?**"
      ],
      "metadata": {
        "id": "Hz30iAW-UooH"
      }
    },
    {
      "cell_type": "markdown",
      "source": [
        "# **Ways to Define a Function:**"
      ],
      "metadata": {
        "id": "yPld9QM1Wbrr"
      }
    },
    {
      "cell_type": "code",
      "source": [
        "# 1. Using def keyword (standard way):\n",
        "def greetings(name):\n",
        "  print(\"welcome to the office\", name)\n",
        "\n",
        "greetings(\"pallavi.\")"
      ],
      "metadata": {
        "colab": {
          "base_uri": "https://localhost:8080/"
        },
        "id": "Hu1mM8tyVaeX",
        "outputId": "2943c651-91f6-4e55-d1ff-679e8dd3079a"
      },
      "execution_count": 7,
      "outputs": [
        {
          "output_type": "stream",
          "name": "stdout",
          "text": [
            "welcome to the office pallavi.\n"
          ]
        }
      ]
    },
    {
      "cell_type": "code",
      "source": [
        "# 2. Using lambda (anonymous function):\n",
        "greetings = lambda name: print(\"welcome to the office\", name)\n",
        "greetings(\"pallavi.\")"
      ],
      "metadata": {
        "colab": {
          "base_uri": "https://localhost:8080/"
        },
        "id": "z3qRZWyuVhRA",
        "outputId": "aa254ac1-49c1-487e-a75a-b535af6f2563"
      },
      "execution_count": 10,
      "outputs": [
        {
          "output_type": "stream",
          "name": "stdout",
          "text": [
            "welcome to the office pallavi.\n"
          ]
        }
      ]
    },
    {
      "cell_type": "markdown",
      "source": [
        "# **Ways to Call a Function:**"
      ],
      "metadata": {
        "id": "oY6lbcFeWisB"
      }
    },
    {
      "cell_type": "code",
      "source": [
        "# 1. Positional Arguments:\n",
        "def add(a, b):\n",
        "    return a + b\n",
        "\n",
        "add(2, 3)"
      ],
      "metadata": {
        "colab": {
          "base_uri": "https://localhost:8080/"
        },
        "id": "LMiyilIZWfyi",
        "outputId": "09eccc73-d896-422b-a8bf-aa745661c130"
      },
      "execution_count": 14,
      "outputs": [
        {
          "output_type": "execute_result",
          "data": {
            "text/plain": [
              "5"
            ]
          },
          "metadata": {},
          "execution_count": 14
        }
      ]
    },
    {
      "cell_type": "code",
      "source": [
        "# 2. Keyword Arguments:\n",
        "add(a=2, b=3)"
      ],
      "metadata": {
        "colab": {
          "base_uri": "https://localhost:8080/"
        },
        "id": "KI9Hv5M8WtRA",
        "outputId": "76d7fcd8-41b3-4520-dc2f-341f94b59fb6"
      },
      "execution_count": 15,
      "outputs": [
        {
          "output_type": "execute_result",
          "data": {
            "text/plain": [
              "5"
            ]
          },
          "metadata": {},
          "execution_count": 15
        }
      ]
    },
    {
      "cell_type": "code",
      "source": [
        "# 3. Default Arguments:\n",
        "def add(a, b=3):\n",
        "    return a + b\n",
        "\n",
        "add(2)"
      ],
      "metadata": {
        "colab": {
          "base_uri": "https://localhost:8080/"
        },
        "id": "A9eqi8BUWzzl",
        "outputId": "e6dc1e33-3a59-476d-d9d6-c1ba38de918f"
      },
      "execution_count": 16,
      "outputs": [
        {
          "output_type": "execute_result",
          "data": {
            "text/plain": [
              "5"
            ]
          },
          "metadata": {},
          "execution_count": 16
        }
      ]
    },
    {
      "cell_type": "code",
      "source": [
        "# 4. Using *args and **kwargs:\n",
        "def add(*args, **kwargs):\n",
        "    return sum(args) + sum(kwargs.values())\n",
        "\n",
        "add(1, 2, 3, a=4, b=5)"
      ],
      "metadata": {
        "colab": {
          "base_uri": "https://localhost:8080/"
        },
        "id": "h7todiWuXF44",
        "outputId": "a27e0e75-a032-42ed-8709-4564a43bb045"
      },
      "execution_count": 17,
      "outputs": [
        {
          "output_type": "execute_result",
          "data": {
            "text/plain": [
              "15"
            ]
          },
          "metadata": {},
          "execution_count": 17
        }
      ]
    },
    {
      "cell_type": "code",
      "source": [
        "# 5. Calling Lambda Functions\n",
        "multiply = lambda x, y: x * y\n",
        "multiply(4, 5)"
      ],
      "metadata": {
        "colab": {
          "base_uri": "https://localhost:8080/"
        },
        "id": "mZIy9PJ8XTq9",
        "outputId": "4a39c3e5-ffeb-4248-a55c-743cc7352d30"
      },
      "execution_count": 18,
      "outputs": [
        {
          "output_type": "execute_result",
          "data": {
            "text/plain": [
              "20"
            ]
          },
          "metadata": {},
          "execution_count": 18
        }
      ]
    },
    {
      "cell_type": "markdown",
      "source": [
        "# **4. What is the purpose of the `return` statement in a Python function?**\n",
        "\n",
        "The return statement in Python is used to:\n",
        "\n",
        "Send a value back from a function to where it was called."
      ],
      "metadata": {
        "id": "bmyBxVWNXdnM"
      }
    },
    {
      "cell_type": "code",
      "source": [
        "def add(a, b):\n",
        "    return a + b\n",
        "\n",
        "result = add(3, 4)\n",
        "print(result)"
      ],
      "metadata": {
        "colab": {
          "base_uri": "https://localhost:8080/"
        },
        "id": "wvhE1g0GX0S8",
        "outputId": "c60faa20-0722-446e-c403-ffab9c8f72e0"
      },
      "execution_count": 19,
      "outputs": [
        {
          "output_type": "stream",
          "name": "stdout",
          "text": [
            "7\n"
          ]
        }
      ]
    },
    {
      "cell_type": "markdown",
      "source": [
        "# **5. What are iterators in Python and how do they differ from iterables?**\n",
        "\n",
        "* Iterable: An iterable is any object you can loop over (like with a for loop)."
      ],
      "metadata": {
        "id": "I3Y5v1HCX8qF"
      }
    },
    {
      "cell_type": "code",
      "source": [
        "fruits = [\"apple\", \"banana\", \"cherry\"]\n",
        "for fruit in fruits:\n",
        "    print(fruit)"
      ],
      "metadata": {
        "colab": {
          "base_uri": "https://localhost:8080/"
        },
        "id": "w2ZFnnrUYTxD",
        "outputId": "a920e409-be14-41c4-bed2-a12a61427b6e"
      },
      "execution_count": 20,
      "outputs": [
        {
          "output_type": "stream",
          "name": "stdout",
          "text": [
            "apple\n",
            "banana\n",
            "cherry\n"
          ]
        }
      ]
    },
    {
      "cell_type": "markdown",
      "source": [
        "An iterator is an object that gives you items one at a time, using next().\n",
        "You get an iterator from an iterable using iter()."
      ],
      "metadata": {
        "id": "qydQnp0xYb2r"
      }
    },
    {
      "cell_type": "code",
      "source": [
        "fruits = [\"apple\", \"banana\", \"cherry\"]\n",
        "it = iter(fruits)\n",
        "\n",
        "print(next(it))\n",
        "print(next(it))\n",
        "print(next(it))"
      ],
      "metadata": {
        "colab": {
          "base_uri": "https://localhost:8080/"
        },
        "id": "espDiAuJYjNa",
        "outputId": "d3453ccf-d431-469d-d41f-a69f2b207a52"
      },
      "execution_count": 32,
      "outputs": [
        {
          "output_type": "stream",
          "name": "stdout",
          "text": [
            "apple\n",
            "banana\n",
            "cherry\n"
          ]
        }
      ]
    },
    {
      "cell_type": "markdown",
      "source": [
        "# **6. Explain the concept of generators in Python and how they are defined.**\n",
        "\n",
        "A generator is a special type of function that remembers its state and yields values one at a time, instead of returning all at once.\n",
        "\n",
        "Generators use the yield keyword instead of return.\n",
        "\n",
        "They produce a sequence of values lazily (one at a time, only when needed).\n",
        "\n",
        "Great for working with large data or infinite sequences."
      ],
      "metadata": {
        "id": "nVufIcQjY3HH"
      }
    },
    {
      "cell_type": "code",
      "source": [
        "def my_gen():\n",
        "    yield \"A\"\n",
        "    yield \"B\"\n",
        "    yield \"C\""
      ],
      "metadata": {
        "id": "pQOm17a5Yy6m"
      },
      "execution_count": 26,
      "outputs": []
    },
    {
      "cell_type": "code",
      "source": [
        "gen = my_gen()\n",
        "\n",
        "print(next(gen))\n",
        "print(next(gen))\n",
        "print(next(gen))"
      ],
      "metadata": {
        "colab": {
          "base_uri": "https://localhost:8080/"
        },
        "id": "XVyIs-3WZXPx",
        "outputId": "443ae1c6-285f-4c9e-dc32-c19fd67dae5b"
      },
      "execution_count": 31,
      "outputs": [
        {
          "output_type": "stream",
          "name": "stdout",
          "text": [
            "A\n",
            "B\n",
            "C\n"
          ]
        }
      ]
    },
    {
      "cell_type": "markdown",
      "source": [
        "# **7. What are the advantages of using generators over regular functions?**\n",
        "* Generators are useful when you want to save memory, process large data, or produce values one at a time.\n",
        "* Since they generate values on-the-fly, they are faster for big data processing.\n",
        "* Generators don’t compute everything at once. They pause after each yield and resume when needed.\n",
        "* They are great for loops and streaming data\n",
        "\n",
        "Generators are better than regular functions when:\n",
        "\n",
        "You don't need all results at once.\n",
        "\n",
        "You want to save memory.\n",
        "\n",
        "You’re working with big or endless data."
      ],
      "metadata": {
        "id": "1m8-HGB4ZZTp"
      }
    },
    {
      "cell_type": "code",
      "source": [
        "def get_numbers_gen():\n",
        "    yield 1\n",
        "    yield 2\n",
        "    yield 3\n",
        "\n",
        "gen = get_numbers_gen()\n",
        "\n",
        "print(next(gen))\n",
        "print(next(gen))\n",
        "print(next(gen))"
      ],
      "metadata": {
        "colab": {
          "base_uri": "https://localhost:8080/"
        },
        "id": "hxKcYP-jZ3w1",
        "outputId": "1b6aa307-6785-40e7-96fe-07ca50bfbba7"
      },
      "execution_count": 30,
      "outputs": [
        {
          "output_type": "stream",
          "name": "stdout",
          "text": [
            "1\n",
            "2\n",
            "3\n"
          ]
        }
      ]
    },
    {
      "cell_type": "markdown",
      "source": [
        "# **8. What is a lambda function in Python and when is it typically used?**\n",
        "\n",
        "A lambda function is a small, anonymous (nameless) function in Python.\n",
        "It is used for short, simple tasks — usually where a full def function is not needed."
      ],
      "metadata": {
        "id": "qRi0189wZ3FS"
      }
    },
    {
      "cell_type": "code",
      "source": [
        "square = lambda x: x * x\n",
        "print(square(5))"
      ],
      "metadata": {
        "colab": {
          "base_uri": "https://localhost:8080/"
        },
        "id": "P_Ccx7RLaR8X",
        "outputId": "09543f0e-585d-4e54-9c70-1a887fe6f7d0"
      },
      "execution_count": 33,
      "outputs": [
        {
          "output_type": "stream",
          "name": "stdout",
          "text": [
            "25\n"
          ]
        }
      ]
    },
    {
      "cell_type": "markdown",
      "source": [
        "# **9. Explain the purpose and usage of the `map()` function in Python.**\n",
        "\n",
        "The map() function is used to apply a function to each item in a list (or any iterable) and return a new result"
      ],
      "metadata": {
        "id": "5SqDFjzsaYJ0"
      }
    },
    {
      "cell_type": "code",
      "source": [
        "def square(x):\n",
        "    return x * x\n",
        "\n",
        "numbers = [1, 2, 3, 4]\n",
        "result = map(square, numbers)\n",
        "\n",
        "print(list(result))"
      ],
      "metadata": {
        "colab": {
          "base_uri": "https://localhost:8080/"
        },
        "id": "nzxgGhCxajfS",
        "outputId": "47b2b013-bc15-46cd-c2a3-ac17f773710d"
      },
      "execution_count": 34,
      "outputs": [
        {
          "output_type": "stream",
          "name": "stdout",
          "text": [
            "[1, 4, 9, 16]\n"
          ]
        }
      ]
    },
    {
      "cell_type": "markdown",
      "source": [
        "# **10. What is the difference between `map()`, `reduce()`, and `filter()` functions in Python?**\n"
      ],
      "metadata": {
        "id": "f3tS3P4XalKD"
      }
    },
    {
      "cell_type": "code",
      "source": [
        " # 1. map() Applies a function to every item in an iterable and returns the result.\n",
        " nums = [1, 2, 3]\n",
        "result = map(lambda x: x * 2, nums)\n",
        "print(list(result))\n"
      ],
      "metadata": {
        "colab": {
          "base_uri": "https://localhost:8080/"
        },
        "id": "lNPQ-XNcarrQ",
        "outputId": "c99b1e34-dd89-432a-e133-91f52d81f6ca"
      },
      "execution_count": 36,
      "outputs": [
        {
          "output_type": "stream",
          "name": "stdout",
          "text": [
            "[2, 4, 6]\n"
          ]
        }
      ]
    },
    {
      "cell_type": "code",
      "source": [
        "# 2. filter() - Selects only items that match a condition (returns True) and removes the rest.\n",
        "nums = [1, 2, 3, 4]\n",
        "result = filter(lambda x: x % 2 == 0, nums)\n",
        "print(list(result))"
      ],
      "metadata": {
        "colab": {
          "base_uri": "https://localhost:8080/"
        },
        "id": "T1YgCqXWaw9e",
        "outputId": "52c67d77-9f09-4908-ff03-843c01c5db90"
      },
      "execution_count": 37,
      "outputs": [
        {
          "output_type": "stream",
          "name": "stdout",
          "text": [
            "[2, 3]\n"
          ]
        }
      ]
    },
    {
      "cell_type": "code",
      "source": [
        "# 3. reduce() - Applies a function to the first two items in an iterable, then to the result and the next item, and so on.\n",
        "from functools import reduce\n",
        "\n",
        "nums = [1, 2, 3, 4]\n",
        "result = reduce(lambda x, y: x + y, nums)\n",
        "print(result)\n"
      ],
      "metadata": {
        "colab": {
          "base_uri": "https://localhost:8080/"
        },
        "id": "die6KZ-Ka9wL",
        "outputId": "16d234b9-7de3-4a45-8bb1-e2c5ca602cf0"
      },
      "execution_count": 38,
      "outputs": [
        {
          "output_type": "stream",
          "name": "stdout",
          "text": [
            "10\n"
          ]
        }
      ]
    },
    {
      "cell_type": "markdown",
      "source": [
        "#**11.  Using pen & Paper write the internal mechanism for sum operation using  reduce function on this given list:[47,11,42,13];**"
      ],
      "metadata": {
        "id": "Hwk49_TFbI4s"
      }
    },
    {
      "cell_type": "code",
      "source": [
        "reduce(lambda x, y: x + y, [47, 11, 42, 13])"
      ],
      "metadata": {
        "colab": {
          "base_uri": "https://localhost:8080/"
        },
        "id": "oJSpc6Qhbodv",
        "outputId": "1342ac35-a827-4838-a7b0-8cef1a979584"
      },
      "execution_count": 39,
      "outputs": [
        {
          "output_type": "execute_result",
          "data": {
            "text/plain": [
              "113"
            ]
          },
          "metadata": {},
          "execution_count": 39
        }
      ]
    },
    {
      "cell_type": "markdown",
      "source": [
        "# **Practical Questions:**"
      ],
      "metadata": {
        "id": "Pq934t-UcjT2"
      }
    },
    {
      "cell_type": "markdown",
      "source": [
        "#**1.Write a Python function that takes a list of numbers as input and returns the sum of all even numbers in the list**"
      ],
      "metadata": {
        "id": "5GA5kiG5co_D"
      }
    },
    {
      "cell_type": "code",
      "source": [
        "def sum_even(nums):\n",
        "    total = 0\n",
        "    for n in nums:\n",
        "        if n % 2 == 0:\n",
        "            total = total + n\n",
        "    return total"
      ],
      "metadata": {
        "id": "NniKg0U8c0qV"
      },
      "execution_count": 46,
      "outputs": []
    },
    {
      "cell_type": "code",
      "source": [
        "sum_even([2, 5, 8, 3, 6])"
      ],
      "metadata": {
        "colab": {
          "base_uri": "https://localhost:8080/"
        },
        "id": "83H8rd1rc9yx",
        "outputId": "80ee8bb1-0a3a-4698-e81d-1d6c7f9002a5"
      },
      "execution_count": 51,
      "outputs": [
        {
          "output_type": "execute_result",
          "data": {
            "text/plain": [
              "16"
            ]
          },
          "metadata": {},
          "execution_count": 51
        }
      ]
    },
    {
      "cell_type": "markdown",
      "source": [
        "# **2. Create a Python function that accepts a string and returns the reverse of that string.**"
      ],
      "metadata": {
        "id": "YXYA_mGcdn-7"
      }
    },
    {
      "cell_type": "code",
      "source": [
        "def reverse_string(text):\n",
        "    return text[::-1]"
      ],
      "metadata": {
        "id": "dW1XZuP8drsX"
      },
      "execution_count": 52,
      "outputs": []
    },
    {
      "cell_type": "code",
      "source": [
        "print(reverse_string(\"pallavi\"))"
      ],
      "metadata": {
        "colab": {
          "base_uri": "https://localhost:8080/"
        },
        "id": "sFBaRY-mdvdn",
        "outputId": "9b3363a7-8882-4513-95fc-10d3d83861ac"
      },
      "execution_count": 53,
      "outputs": [
        {
          "output_type": "stream",
          "name": "stdout",
          "text": [
            "ivallap\n"
          ]
        }
      ]
    },
    {
      "cell_type": "markdown",
      "source": [
        " # **3.Implement a Python function that takes a list of integers and returns a new list containing the squares of each number**"
      ],
      "metadata": {
        "id": "RUwt7TD7dzDD"
      }
    },
    {
      "cell_type": "code",
      "source": [
        "def square_list(numbers):\n",
        "    result = []\n",
        "    for num in numbers:\n",
        "        result.append(num * num)\n",
        "    return result"
      ],
      "metadata": {
        "id": "id2drwTld_Iu"
      },
      "execution_count": 54,
      "outputs": []
    },
    {
      "cell_type": "code",
      "source": [
        "print(square_list([1, 2, 3, 4]))"
      ],
      "metadata": {
        "colab": {
          "base_uri": "https://localhost:8080/"
        },
        "id": "nGdb_s9peC8T",
        "outputId": "3faffa17-9bc3-46b8-dac8-5e5d5b3b5d91"
      },
      "execution_count": 55,
      "outputs": [
        {
          "output_type": "stream",
          "name": "stdout",
          "text": [
            "[1, 4, 9, 16]\n"
          ]
        }
      ]
    },
    {
      "cell_type": "markdown",
      "source": [
        "# **4. Write a Python function that checks if a given number is prime or not from 1 to 200.**"
      ],
      "metadata": {
        "id": "pSjenlUXeFqJ"
      }
    },
    {
      "cell_type": "code",
      "source": [
        "def is_prime(n):\n",
        "    if n < 2:\n",
        "        return False\n",
        "    for i in range(2, int(n**0.5) + 1):\n",
        "        if n % i == 0:\n",
        "            return False\n",
        "    return True"
      ],
      "metadata": {
        "id": "yQ_w0cnFeJdj"
      },
      "execution_count": 57,
      "outputs": []
    },
    {
      "cell_type": "code",
      "source": [
        "print(is_prime(7))"
      ],
      "metadata": {
        "colab": {
          "base_uri": "https://localhost:8080/"
        },
        "id": "ZKe6ypqOeTOZ",
        "outputId": "0903e99d-6076-4854-a480-65f4b3fb7f6c"
      },
      "execution_count": 58,
      "outputs": [
        {
          "output_type": "stream",
          "name": "stdout",
          "text": [
            "True\n"
          ]
        }
      ]
    },
    {
      "cell_type": "markdown",
      "source": [
        "# **5. Create an iterator class in Python that generates the Fibonacci sequence up to a specified number of terms.**"
      ],
      "metadata": {
        "id": "EfanW_0NeVMl"
      }
    },
    {
      "cell_type": "code",
      "source": [
        "class Fibonacci:\n",
        "    def __init__(self, n):\n",
        "        self.n = n\n",
        "        self.count = 0\n",
        "        self.first = 0\n",
        "        self.second = 1\n",
        "\n",
        "    def __iter__(self):\n",
        "        return self\n",
        "\n",
        "    def __next__(self):\n",
        "        if self.count >= self.n:\n",
        "            raise StopIteration\n",
        "        if self.count == 0:\n",
        "            self.count += 1\n",
        "            return self.first\n",
        "        elif self.count == 1:\n",
        "            self.count += 1\n",
        "            return self.second\n",
        "        else:\n",
        "            next_num = self.first + self.second\n",
        "            self.first = self.second\n",
        "            self.second = next_num\n",
        "            self.count += 1\n",
        "            return next_num"
      ],
      "metadata": {
        "id": "5hTiD4dfebFa"
      },
      "execution_count": 59,
      "outputs": []
    },
    {
      "cell_type": "code",
      "source": [
        "fib = Fibonacci(6)\n",
        "\n",
        "for number in fib:\n",
        "    print(number)"
      ],
      "metadata": {
        "colab": {
          "base_uri": "https://localhost:8080/"
        },
        "id": "Eb23aXqeesAh",
        "outputId": "5c579d76-d16f-4bff-8567-905e8e412d21"
      },
      "execution_count": 60,
      "outputs": [
        {
          "output_type": "stream",
          "name": "stdout",
          "text": [
            "0\n",
            "1\n",
            "1\n",
            "2\n",
            "3\n",
            "5\n"
          ]
        }
      ]
    },
    {
      "cell_type": "markdown",
      "source": [
        "# **6. Write a generator function in Python that yields the powers of 2 up to a given exponent.**"
      ],
      "metadata": {
        "id": "zNbXfvTPeUoc"
      }
    },
    {
      "cell_type": "code",
      "source": [
        "def powers_of_two(n):\n",
        "    for i in range(n + 1):\n",
        "        yield 2 ** i"
      ],
      "metadata": {
        "id": "PwVBSS0lexrv"
      },
      "execution_count": 61,
      "outputs": []
    },
    {
      "cell_type": "code",
      "source": [
        "for num in powers_of_two(5):\n",
        "    print(num)"
      ],
      "metadata": {
        "colab": {
          "base_uri": "https://localhost:8080/"
        },
        "id": "KhFVpOtye2Ut",
        "outputId": "6edbbacb-5f16-4b21-b04a-2e0a8a9a5f85"
      },
      "execution_count": 62,
      "outputs": [
        {
          "output_type": "stream",
          "name": "stdout",
          "text": [
            "1\n",
            "2\n",
            "4\n",
            "8\n",
            "16\n",
            "32\n"
          ]
        }
      ]
    },
    {
      "cell_type": "markdown",
      "source": [
        "# **7. Implement a generator function that reads a file line by line and yields each line as a string.**"
      ],
      "metadata": {
        "id": "3g0w2kvce3hT"
      }
    },
    {
      "cell_type": "code",
      "source": [
        "def read_file_lines(filename):\n",
        "    with open(filename, 'r') as file:\n",
        "        for line in file:\n",
        "            yield line.strip()"
      ],
      "metadata": {
        "id": "lPIK3LH-e78G"
      },
      "execution_count": 69,
      "outputs": []
    },
    {
      "cell_type": "code",
      "source": [
        "for line in read_file_lines(\"sample.txt\"):\n",
        "    print(line)"
      ],
      "metadata": {
        "colab": {
          "base_uri": "https://localhost:8080/"
        },
        "id": "Bs_-PHVBe-ex",
        "outputId": "d9b9e1d7-af20-4628-87c1-fe214ff87717"
      },
      "execution_count": 71,
      "outputs": [
        {
          "output_type": "stream",
          "name": "stdout",
          "text": [
            "This is line 1.\n",
            "This is line 2.\n",
            "This is line 3.\n"
          ]
        }
      ]
    },
    {
      "cell_type": "markdown",
      "source": [
        "# **8. Use a lambda function in Python to sort a list of tuples based on the second element of each tuple.**"
      ],
      "metadata": {
        "id": "n8KL9p0dfkkQ"
      }
    },
    {
      "cell_type": "code",
      "source": [
        "data = [(5, 2), (1, 9), (3, 4), (8, 1)]\n",
        "\n",
        "# Sort by second element using lambda\n",
        "sorted_data = sorted(data, key=lambda x: x[1])\n",
        "\n",
        "print(sorted_data)"
      ],
      "metadata": {
        "colab": {
          "base_uri": "https://localhost:8080/"
        },
        "id": "ve-Pm9yZfoL9",
        "outputId": "83fdfacc-924b-4d1e-dea5-1443821438e4"
      },
      "execution_count": 72,
      "outputs": [
        {
          "output_type": "stream",
          "name": "stdout",
          "text": [
            "[(8, 1), (5, 2), (3, 4), (1, 9)]\n"
          ]
        }
      ]
    },
    {
      "cell_type": "markdown",
      "source": [
        "# **9. Write a Python program that uses `map()` to convert a list of temperatures from Celsius to Fahrenheit.**"
      ],
      "metadata": {
        "id": "IwjuKwEkfsfC"
      }
    },
    {
      "cell_type": "code",
      "source": [
        "celsius = [0, 10, 20, 30, 40]\n",
        "\n",
        "# Convert to Fahrenheit using map and lambda\n",
        "fahrenheit = list(map(lambda c: (c * 9/5) + 32, celsius))\n",
        "\n",
        "print(fahrenheit)"
      ],
      "metadata": {
        "colab": {
          "base_uri": "https://localhost:8080/"
        },
        "id": "kWf7b-5Pf0mV",
        "outputId": "1c954f0f-db9b-400c-c4e6-41603f979958"
      },
      "execution_count": 73,
      "outputs": [
        {
          "output_type": "stream",
          "name": "stdout",
          "text": [
            "[32.0, 50.0, 68.0, 86.0, 104.0]\n"
          ]
        }
      ]
    },
    {
      "cell_type": "markdown",
      "source": [
        "# **10. Create a Python program that uses `filter()` to remove all the vowels from a given string.**"
      ],
      "metadata": {
        "id": "Q-eyFNhdf5y4"
      }
    },
    {
      "cell_type": "code",
      "source": [
        "def remove_vowels(text):\n",
        "    vowels = 'aeiouAEIOU'\n",
        "    result = ''.join(filter(lambda ch: ch not in vowels, text))\n",
        "    return result"
      ],
      "metadata": {
        "id": "Ek5cekU5f9CC"
      },
      "execution_count": 74,
      "outputs": []
    },
    {
      "cell_type": "code",
      "source": [
        "input_str = \"Hello World\"\n",
        "output_str = remove_vowels(input_str)\n",
        "print(output_str)"
      ],
      "metadata": {
        "colab": {
          "base_uri": "https://localhost:8080/"
        },
        "id": "9QhOzlp0gAiD",
        "outputId": "948a74a3-a11b-4af9-bf5e-81abf32fa1a2"
      },
      "execution_count": 75,
      "outputs": [
        {
          "output_type": "stream",
          "name": "stdout",
          "text": [
            "Hll Wrld\n"
          ]
        }
      ]
    },
    {
      "cell_type": "markdown",
      "source": [
        " # **11.Imagine an accounting routine used in a book shop. It works on a list with sublists, which look like this:Write a Python program, which returns a list with 2-tuples. Each tuple consists of the order number and the product of the price per item and the quantity. The product should be increased by 10,- € if the value of the order is smaller than 100,00 €.Write a Python program using lambda and map**"
      ],
      "metadata": {
        "id": "PPlVHQXtgD4z"
      }
    },
    {
      "cell_type": "code",
      "source": [
        "orders = [\n",
        "    [34587, \"Learning Python, Mark Lutz\", 4, 40.95],\n",
        "    [98762, \"Programming Python, Mark Lutz\", 5, 56.80],\n",
        "    [77226, \"Head First Python, Paul Barry\", 3, 32.95],\n",
        "    [88112, \"Einführung in Python3, Bernd Klein\", 3, 24.99]\n",
        "]\n",
        "\n",
        "result = list(map(\n",
        "    lambda order: (order[0], order[2] * order[3] + (10 if order[2] * order[3] < 100 else 0)),\n",
        "    orders\n",
        "))\n",
        "\n",
        "print(result)"
      ],
      "metadata": {
        "colab": {
          "base_uri": "https://localhost:8080/"
        },
        "id": "AQxlKu8xgfL7",
        "outputId": "07f0a300-3949-4666-ce68-67834cc42311"
      },
      "execution_count": 76,
      "outputs": [
        {
          "output_type": "stream",
          "name": "stdout",
          "text": [
            "[(34587, 163.8), (98762, 284.0), (77226, 108.85000000000001), (88112, 84.97)]\n"
          ]
        }
      ]
    }
  ]
}